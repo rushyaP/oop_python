{
 "cells": [
  {
   "cell_type": "markdown",
   "metadata": {},
   "source": [
    "##### Encapsulation - Bundling of various attributes and methods into a single class   \n",
    "###### Only attributes and methods are accessible, internal state is hidden \n",
    "\n",
    "###### The idea is to make use of private and protected attributes and methods within class protecting data integrity and promoting information hiding"
   ]
  },
  {
   "cell_type": "code",
   "execution_count": 1,
   "metadata": {},
   "outputs": [],
   "source": [
    "\n",
    "# In python ,__denotes private and _protected; can be applied to attributes or methods\n",
    "class Person:\n",
    "    def __init__(self,name,gender,age,race,ethnicity,education):\n",
    "        self.name = name\n",
    "        self.gender = gender\n",
    "        self.age = age\n",
    "        self.__race = race #private var\n",
    "        self.__ethnicity = ethnicity #private var\n",
    "        self._education = education #protected var\n",
    "\n",
    "    def __str__(self):\n",
    "        return f'Name:{self.name} Gender:{self.gender},Age:{self.age}'\n",
    "    \n",
    "    def setRace(self,race):\n",
    "        self__race = race\n",
    "    \n",
    "    def getRace(self):\n",
    "        return self.__race\n",
    "    \n",
    "    def private_var_print(self): # public method to print private vars\n",
    "        return f'Race:{self.__race},Ethnicity:{self.__ethnicity}'\n",
    "    \n",
    "    def _protectedMethod(self): #protected method\n",
    "        print('This is a protected method')\n",
    "        print('Protected var value is {x}'.format(x=self._education))\n",
    "\n",
    "    def __privateMethod(self): # private method\n",
    "        print('Called private method: private vars are {x} and {y}'.format(x=self.__race,y=self.__ethnicity))\n",
    "\n",
    "    def promo_camp(self):\n",
    "        if self._education=='Bachelors':\n",
    "            print('Send Masters Program details')\n",
    "\n",
    "per1 = Person('Jim','Male',28,'White','American','Bachelors')"
   ]
  },
  {
   "cell_type": "markdown",
   "metadata": {},
   "source": [
    "In the above code, \n",
    "private and protected attributes and methods are defined"
   ]
  },
  {
   "cell_type": "code",
   "execution_count": 57,
   "metadata": {},
   "outputs": [
    {
     "name": "stdout",
     "output_type": "stream",
     "text": [
      "Name:Jim Gender:Male,Age:28\n"
     ]
    }
   ],
   "source": [
    "print(per1)"
   ]
  },
  {
   "cell_type": "code",
   "execution_count": 54,
   "metadata": {},
   "outputs": [
    {
     "data": {
      "text/plain": [
       "'Race:White,Ethnicity:American'"
      ]
     },
     "execution_count": 54,
     "metadata": {},
     "output_type": "execute_result"
    }
   ],
   "source": [
    "# calling public method that prints private variables --->no error\n",
    "per1.private_var_print()\n",
    "#Although the variables are private, this is not strictly enforced in python"
   ]
  },
  {
   "cell_type": "code",
   "execution_count": 55,
   "metadata": {},
   "outputs": [
    {
     "ename": "AttributeError",
     "evalue": "'Person' object has no attribute '__privateMethod'",
     "output_type": "error",
     "traceback": [
      "\u001b[1;31m---------------------------------------------------------------------------\u001b[0m",
      "\u001b[1;31mAttributeError\u001b[0m                            Traceback (most recent call last)",
      "\u001b[1;32m<ipython-input-55-86a668235a3a>\u001b[0m in \u001b[0;36m<module>\u001b[1;34m\u001b[0m\n\u001b[0;32m      1\u001b[0m \u001b[1;31m#calling private method\u001b[0m\u001b[1;33m\u001b[0m\u001b[1;33m\u001b[0m\u001b[1;33m\u001b[0m\u001b[0m\n\u001b[1;32m----> 2\u001b[1;33m \u001b[0mper1\u001b[0m\u001b[1;33m.\u001b[0m\u001b[0m__privateMethod\u001b[0m\u001b[1;33m(\u001b[0m\u001b[1;33m)\u001b[0m\u001b[1;33m\u001b[0m\u001b[1;33m\u001b[0m\u001b[0m\n\u001b[0m",
      "\u001b[1;31mAttributeError\u001b[0m: 'Person' object has no attribute '__privateMethod'"
     ]
    }
   ],
   "source": [
    "#calling private method\n",
    "per1.__privateMethod()\n",
    "#Giving an AttributeError, because python implements name mangling. It can be accessed as _className__privatemethodname()"
   ]
  },
  {
   "cell_type": "code",
   "execution_count": 56,
   "metadata": {},
   "outputs": [
    {
     "name": "stdout",
     "output_type": "stream",
     "text": [
      "Called private method: private vars are White and American\n"
     ]
    }
   ],
   "source": [
    "per1._Person__privateMethod()\n",
    "#calling private methods by this means is not encouraged"
   ]
  },
  {
   "cell_type": "code",
   "execution_count": 58,
   "metadata": {},
   "outputs": [
    {
     "name": "stdout",
     "output_type": "stream",
     "text": [
      "This is a protected method\n",
      "Protected var value is Bachelors\n"
     ]
    }
   ],
   "source": [
    "#calling protected method -->no error\n",
    "per1._protectedMethod()"
   ]
  },
  {
   "cell_type": "code",
   "execution_count": 63,
   "metadata": {},
   "outputs": [
    {
     "ename": "AttributeError",
     "evalue": "'Person' object has no attribute '__ethnicity'",
     "output_type": "error",
     "traceback": [
      "\u001b[1;31m---------------------------------------------------------------------------\u001b[0m",
      "\u001b[1;31mAttributeError\u001b[0m                            Traceback (most recent call last)",
      "\u001b[1;32m<ipython-input-63-edf9e3f4f0cb>\u001b[0m in \u001b[0;36m<module>\u001b[1;34m\u001b[0m\n\u001b[0;32m      1\u001b[0m \u001b[1;31m# Accessing private varible\u001b[0m\u001b[1;33m\u001b[0m\u001b[1;33m\u001b[0m\u001b[1;33m\u001b[0m\u001b[0m\n\u001b[1;32m----> 2\u001b[1;33m \u001b[0mper1\u001b[0m\u001b[1;33m.\u001b[0m\u001b[0m__ethnicity\u001b[0m\u001b[1;33m\u001b[0m\u001b[1;33m\u001b[0m\u001b[0m\n\u001b[0m",
      "\u001b[1;31mAttributeError\u001b[0m: 'Person' object has no attribute '__ethnicity'"
     ]
    }
   ],
   "source": [
    "# Accessing private variable\n",
    "#private variables cannot be accessed directly outside the class\n",
    "per1.__ethnicity"
   ]
  },
  {
   "cell_type": "code",
   "execution_count": 64,
   "metadata": {},
   "outputs": [
    {
     "data": {
      "text/plain": [
       "'American'"
      ]
     },
     "execution_count": 64,
     "metadata": {},
     "output_type": "execute_result"
    }
   ],
   "source": [
    "#Accessing private variable with how it's stored internally\n",
    "per1._Person__ethnicity"
   ]
  },
  {
   "cell_type": "code",
   "execution_count": 94,
   "metadata": {},
   "outputs": [
    {
     "data": {
      "text/plain": [
       "'White'"
      ]
     },
     "execution_count": 94,
     "metadata": {},
     "output_type": "execute_result"
    }
   ],
   "source": [
    "#Private variables can be accessed by public method\n",
    "per1.getRace()"
   ]
  },
  {
   "cell_type": "code",
   "execution_count": 65,
   "metadata": {},
   "outputs": [
    {
     "data": {
      "text/plain": [
       "'Bachelors'"
      ]
     },
     "execution_count": 65,
     "metadata": {},
     "output_type": "execute_result"
    }
   ],
   "source": [
    "# accessing protected var -->no error\n",
    "per1._education"
   ]
  },
  {
   "cell_type": "code",
   "execution_count": 4,
   "metadata": {},
   "outputs": [
    {
     "name": "stdout",
     "output_type": "stream",
     "text": [
      "AttributeError: Cannot access private attribute directly\n"
     ]
    }
   ],
   "source": [
    "#Exception handling when private attributes are called\n",
    "try:\n",
    "    per1.__ethnicity\n",
    "except AttributeError as e:\n",
    "    if \"'Person' object has no attribute '__ethnicity'\" in str(e):\n",
    "        print(\"AttributeError: Cannot access private attribute directly\")\n",
    "    else:\n",
    "        raise"
   ]
  },
  {
   "cell_type": "code",
   "execution_count": 5,
   "metadata": {},
   "outputs": [
    {
     "ename": "AttributeError",
     "evalue": "'Person' object has no attribute '__ethnicity'",
     "output_type": "error",
     "traceback": [
      "\u001b[1;31m---------------------------------------------------------------------------\u001b[0m",
      "\u001b[1;31mAttributeError\u001b[0m                            Traceback (most recent call last)",
      "\u001b[1;32m<ipython-input-5-4acc1c30929f>\u001b[0m in \u001b[0;36m<module>\u001b[1;34m\u001b[0m\n\u001b[1;32m----> 1\u001b[1;33m \u001b[0mper1\u001b[0m\u001b[1;33m.\u001b[0m\u001b[0m__ethnicity\u001b[0m\u001b[1;33m\u001b[0m\u001b[1;33m\u001b[0m\u001b[0m\n\u001b[0m",
      "\u001b[1;31mAttributeError\u001b[0m: 'Person' object has no attribute '__ethnicity'"
     ]
    }
   ],
   "source": [
    "per1.__ethnicity"
   ]
  },
  {
   "cell_type": "code",
   "execution_count": 3,
   "metadata": {},
   "outputs": [
    {
     "name": "stdout",
     "output_type": "stream",
     "text": [
      "Send Masters Program details\n"
     ]
    }
   ],
   "source": [
    "per1.promo_camp()\n",
    "# promo_camp() function takes protected attribute and decides on promo based on value\n",
    "# This class encapsulates protected variable, having data integrity and makes sure only the class can access such restricted variables"
   ]
  }
 ],
 "metadata": {
  "kernelspec": {
   "display_name": "Python 3.7.4 ('base')",
   "language": "python",
   "name": "python3"
  },
  "language_info": {
   "codemirror_mode": {
    "name": "ipython",
    "version": 3
   },
   "file_extension": ".py",
   "mimetype": "text/x-python",
   "name": "python",
   "nbconvert_exporter": "python",
   "pygments_lexer": "ipython3",
   "version": "3.7.4"
  },
  "vscode": {
   "interpreter": {
    "hash": "bf7884387a0a1902dbf254ff8fbf35e5f45350f2d2c8b0fa253ea72a2fbd7287"
   }
  }
 },
 "nbformat": 4,
 "nbformat_minor": 2
}
