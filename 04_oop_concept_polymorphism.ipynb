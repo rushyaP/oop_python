{
 "cells": [
  {
   "cell_type": "code",
   "execution_count": null,
   "metadata": {},
   "outputs": [],
   "source": [
    "##### The parent class methods and attributes can be overridden by child class\n",
    "\n",
    "# Poly ->Many\n",
    "# Morphism ->Different forms"
   ]
  },
  {
   "cell_type": "code",
   "execution_count": 17,
   "metadata": {},
   "outputs": [],
   "source": [
    "class ElectricVehicle():\n",
    "\n",
    "    def __init__(self,v):\n",
    "        self.v='Electric Vehicle'\n",
    "    \n",
    "    def check_range(self):\n",
    "        print('Available Range 200 miles')"
   ]
  },
  {
   "cell_type": "code",
   "execution_count": 22,
   "metadata": {},
   "outputs": [
    {
     "name": "stdout",
     "output_type": "stream",
     "text": [
      "Toyota Prius Prime Hybrid:Available Hybrid Range is 50 miles\n"
     ]
    }
   ],
   "source": [
    "class Toyota(ElectricVehicle):\n",
    "\n",
    "    def __init__(self,v):\n",
    "       self.name='Toyota Prius Prime'\n",
    "       self.v='Hybrid' #overriding parent class attribute\n",
    "       #super().__init__(hv) # parent class attribute\n",
    "\n",
    "    def check_range(self): #overriding parent class method\n",
    "        return 'Available Hybrid Range is 50 miles'\n",
    "\n",
    "\n",
    "t=Toyota('Hybrid Vehicle')\n",
    "print(t.name+' '+t.v+':'+t.check_range())"
   ]
  }
 ],
 "metadata": {
  "kernelspec": {
   "display_name": "base",
   "language": "python",
   "name": "python3"
  },
  "language_info": {
   "codemirror_mode": {
    "name": "ipython",
    "version": 3
   },
   "file_extension": ".py",
   "mimetype": "text/x-python",
   "name": "python",
   "nbconvert_exporter": "python",
   "pygments_lexer": "ipython3",
   "version": "3.7.4"
  }
 },
 "nbformat": 4,
 "nbformat_minor": 2
}
