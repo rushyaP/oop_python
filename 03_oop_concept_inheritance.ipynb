{
 "cells": [
  {
   "cell_type": "code",
   "execution_count": 11,
   "metadata": {},
   "outputs": [
    {
     "name": "stdout",
     "output_type": "stream",
     "text": [
      "Rivian,R1S,2019,EV\n",
      "Start Rivian\n",
      "Service your Vehicle\n"
     ]
    }
   ],
   "source": [
    "##### Inheritance is the idea of inheriting parent class attributes and methods by child class\n",
    "\n",
    "\n",
    "class Vehicle():\n",
    "\n",
    "    def __init__(self,make,model,year):\n",
    "        self.make=make\n",
    "        self.model=model\n",
    "        self.year=year\n",
    "    \n",
    "    def start_car(self):\n",
    "        print('Start {x}'.format(x=self.make))\n",
    "\n",
    "    def service_vehicle(self):\n",
    "        return f'Service your Vehicle'\n",
    "\n",
    "class Car(Vehicle): # Inheriting from Vehicle class\n",
    "    def __init__(self,make,model,year,engineType):\n",
    "        super().__init__(make,model,year) # since these are same vars as in parent class\n",
    "        # incase of a child class inheriting from two parent class\n",
    "        # replace super() with parentclass.__init__(self, *args)\n",
    "        self.engineType=engineType # assigning new variable to child class that is not present in parent class\n",
    "    \n",
    "    def __str__(self):\n",
    "        return f'{self.make},{self.model},{self.year},{self.engineType}'\n",
    "    \n",
    "    def service_car(self):\n",
    "         print(super().service_vehicle()) # calling parent class method inside a child class method\n",
    "    \n",
    "\n",
    "car=Car('Rivian','R1S',2019,'EV')\n",
    "print(car)\n",
    "car.start_car() # Child class obj can call parent class methods even it's not defined in child class\n",
    "car.service_car()\n"
   ]
  },
  {
   "cell_type": "code",
   "execution_count": 25,
   "metadata": {},
   "outputs": [
    {
     "ename": "TypeError",
     "evalue": "Cannot create a consistent method resolution\norder (MRO) for bases Vehicle, Car",
     "output_type": "error",
     "traceback": [
      "\u001b[1;31m---------------------------------------------------------------------------\u001b[0m",
      "\u001b[1;31mTypeError\u001b[0m                                 Traceback (most recent call last)",
      "\u001b[1;32m<ipython-input-25-53f8bf66aec9>\u001b[0m in \u001b[0;36m<module>\u001b[1;34m\u001b[0m\n\u001b[1;32m----> 1\u001b[1;33m \u001b[1;32mclass\u001b[0m \u001b[0mBMW\u001b[0m\u001b[1;33m(\u001b[0m\u001b[0mVehicle\u001b[0m\u001b[1;33m,\u001b[0m\u001b[0mCar\u001b[0m\u001b[1;33m)\u001b[0m\u001b[1;33m:\u001b[0m\u001b[1;33m\u001b[0m\u001b[1;33m\u001b[0m\u001b[0m\n\u001b[0m\u001b[0;32m      2\u001b[0m \u001b[1;33m\u001b[0m\u001b[0m\n\u001b[0;32m      3\u001b[0m     \u001b[1;32mdef\u001b[0m \u001b[0m__init__self\u001b[0m\u001b[1;33m(\u001b[0m\u001b[1;33m*\u001b[0m\u001b[0margs\u001b[0m\u001b[1;33m)\u001b[0m\u001b[1;33m:\u001b[0m\u001b[1;33m\u001b[0m\u001b[1;33m\u001b[0m\u001b[0m\n\u001b[0;32m      4\u001b[0m         \u001b[0mCar\u001b[0m\u001b[1;33m.\u001b[0m\u001b[0m__init__\u001b[0m\u001b[1;33m(\u001b[0m\u001b[0margs\u001b[0m\u001b[1;33m[\u001b[0m\u001b[1;36m0\u001b[0m\u001b[1;33m]\u001b[0m\u001b[1;33m,\u001b[0m\u001b[0margs\u001b[0m\u001b[1;33m[\u001b[0m\u001b[1;36m1\u001b[0m\u001b[1;33m]\u001b[0m\u001b[1;33m,\u001b[0m\u001b[0margs\u001b[0m\u001b[1;33m[\u001b[0m\u001b[1;36m2\u001b[0m\u001b[1;33m]\u001b[0m\u001b[1;33m,\u001b[0m\u001b[0margs\u001b[0m\u001b[1;33m[\u001b[0m\u001b[1;36m3\u001b[0m\u001b[1;33m]\u001b[0m\u001b[1;33m)\u001b[0m\u001b[1;33m\u001b[0m\u001b[1;33m\u001b[0m\u001b[0m\n\u001b[0;32m      5\u001b[0m \u001b[1;33m\u001b[0m\u001b[0m\n",
      "\u001b[1;31mTypeError\u001b[0m: Cannot create a consistent method resolution\norder (MRO) for bases Vehicle, Car"
     ]
    }
   ],
   "source": [
    "class BMW(Vehicle,Car):\n",
    "\n",
    "    def __init__self(*args):\n",
    "        Car.__init__(args[0],args[1],args[2],args[3])\n",
    "    \n",
    "    def __str__():\n",
    "        return f'self.make'\n",
    "    \n",
    "bmw=BMW('BMW','X5',2019,'ICE')\n",
    "print(bmw)"
   ]
  },
  {
   "cell_type": "code",
   "execution_count": 23,
   "metadata": {},
   "outputs": [],
   "source": [
    "class EletricVehicle():\n",
    "\n",
    "    def __init__(self,ev):\n",
    "        self.ev='Electric Vehicle'\n",
    "    \n",
    "    def check_range(self):\n",
    "        print('Available Rnage 200 miles')"
   ]
  },
  {
   "cell_type": "code",
   "execution_count": 24,
   "metadata": {},
   "outputs": [
    {
     "name": "stdout",
     "output_type": "stream",
     "text": [
      "('Toyota', 'Prius', 2019, 'Hybrid Vehicle')\n",
      "Available Rnage 200 miles\n"
     ]
    }
   ],
   "source": [
    "class Toyota(Vehicle,EletricVehicle):\n",
    "\n",
    "    def __init__(self,*args):\n",
    "        Vehicle.__init__(self,args[0],args[1],args[2])\n",
    "        self.hv=args[3] # To override parent class attribute\n",
    "        #EletricVehicle.__init__(self,args[3]) # If parent class attribute\n",
    "\n",
    "    def __str__(self):\n",
    "        return f'{self.make,self.model,self.year,self.hv}'\n",
    "\n",
    "t=Toyota('Toyota','Prius',2019,'Hybrid Vehicle')\n",
    "print(t)\n",
    "t.check_range()"
   ]
  }
 ],
 "metadata": {
  "kernelspec": {
   "display_name": "base",
   "language": "python",
   "name": "python3"
  },
  "language_info": {
   "codemirror_mode": {
    "name": "ipython",
    "version": 3
   },
   "file_extension": ".py",
   "mimetype": "text/x-python",
   "name": "python",
   "nbconvert_exporter": "python",
   "pygments_lexer": "ipython3",
   "version": "3.7.4"
  }
 },
 "nbformat": 4,
 "nbformat_minor": 2
}
